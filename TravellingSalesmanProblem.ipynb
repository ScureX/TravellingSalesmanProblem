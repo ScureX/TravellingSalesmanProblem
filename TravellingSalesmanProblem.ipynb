{
 "cells": [
  {
   "cell_type": "markdown",
   "id": "80d918ec",
   "metadata": {},
   "source": [
    "# Travelling Salesman Problem\n",
    "\n"
   ]
  },
  {
   "cell_type": "code",
   "execution_count": 1,
   "id": "66d376f3",
   "metadata": {},
   "outputs": [
    {
     "data": {
      "application/vnd.jupyter.widget-view+json": {
       "model_id": "daa9a24ffeaf4a8bad3aa0895ea0896e",
       "version_major": 2,
       "version_minor": 0
      },
      "text/plain": [
       "Canvas(width=800)"
      ]
     },
     "metadata": {},
     "output_type": "display_data"
    }
   ],
   "source": [
    "import numpy as np\n",
    "\n",
    "from ipycanvas import Canvas\n",
    "\n",
    "n_particles = 100_000\n",
    "\n",
    "x = np.array(np.random.rayleigh(250, n_particles), dtype=np.int32)\n",
    "y = np.array(np.random.rayleigh(250, n_particles), dtype=np.int32)\n",
    "size = np.random.randint(1, 3, n_particles)\n",
    "\n",
    "canvas = Canvas(width=800, height=500)\n",
    "\n",
    "canvas.fill_style = 'green'\n",
    "canvas.fill_rects(x, y, size)\n",
    "canvas"
   ]
  },
  {
   "cell_type": "code",
   "execution_count": 1,
   "id": "ea2c5a4a",
   "metadata": {
    "scrolled": true
   },
   "outputs": [
    {
     "name": "stdout",
     "output_type": "stream",
     "text": [
      "AAAAAAAAAAAAAAAAAAAAAAAAAAK DNJKBSAFJFBFSS BN BN ;\n"
     ]
    }
   ],
   "source": [
    "print(\"AAAAAAAAAAAAAAAAAAAAAAAAAAK DNJKBSAFJFBFSS BN BN ;\")"
   ]
  },
  {
   "cell_type": "code",
   "execution_count": 1,
   "id": "ea1a30db",
   "metadata": {},
   "outputs": [
    {
     "name": "stdout",
     "output_type": "stream",
     "text": [
      "slaljdalsdasjpdjapjsdjaisdpijapjsdpaj\n"
     ]
    }
   ],
   "source": [
    "print(\"slaljdalsdasjpdjapjsdjaisdpijapjsdpaj\")"
   ]
  }
 ],
 "metadata": {
  "kernelspec": {
   "display_name": "Python 3 (ipykernel)",
   "language": "python",
   "name": "python3"
  },
  "language_info": {
   "codemirror_mode": {
    "name": "ipython",
    "version": 3
   },
   "file_extension": ".py",
   "mimetype": "text/x-python",
   "name": "python",
   "nbconvert_exporter": "python",
   "pygments_lexer": "ipython3",
   "version": "3.9.7"
  }
 },
 "nbformat": 4,
 "nbformat_minor": 5
}
