{
 "cells": [
  {
   "cell_type": "markdown",
   "id": "80d918ec",
   "metadata": {},
   "source": [
    "# Travelling Salesman Problem\n",
    "\n"
   ]
  },
  {
   "cell_type": "code",
   "execution_count": 4,
   "id": "66d376f3",
   "metadata": {},
   "outputs": [],
   "source": [
    "from tkinter import *\n",
    " \n",
    "root = Tk()\n",
    " \n",
    "frame=Frame(root,width=300,height=300)\n",
    "frame.pack(expand = True, fill=BOTH)\n",
    " \n",
    "canvas = Canvas(frame,bg='white', width = 300,height = 300)\n",
    " \n",
    "coordinates = 20, 50, 210, 230\n",
    "arc = canvas.create_arc(coordinates, start=0, extent=250, fill=\"blue\")\n",
    "arc = canvas.create_arc(coordinates, start=250, extent=50, fill=\"red\")\n",
    "arc = canvas.create_arc(coordinates, start=300, extent=60, fill=\"yellow\")\n",
    " \n",
    "canvas.pack(expand = True, fill = BOTH)\n",
    " \n",
    "root.mainloop()"
   ]
  },
  {
   "cell_type": "code",
   "execution_count": 2,
   "id": "484e123a",
   "metadata": {
    "scrolled": true
   },
   "outputs": [
    {
     "name": "stdout",
     "output_type": "stream",
     "text": [
      "AAAAAAAAAAAAAAAAAAAAAAAAAAK DNJKBSAFJFBFSS BN BN ;\n"
     ]
    }
   ],
   "source": [
    "print(\"AAAAAAAAAAAAAAAAAAAAAAAAAAK DNJKBSAFJFBFSS BN BN ;\")"
   ]
  },
  {
   "cell_type": "code",
   "execution_count": 1,
   "id": "1c2da712",
   "metadata": {},
   "outputs": [
    {
     "name": "stdout",
     "output_type": "stream",
     "text": [
      "slaljdalsdasjpdjapjsdjaisdpijapjsdpaj\n"
     ]
    }
   ],
   "source": [
    "print(\"slaljdalsdasjpdjapjsdjaisdpijapjsdpaj\")"
   ]
  }
 ],
 "metadata": {
  "kernelspec": {
   "display_name": "Python 3 (ipykernel)",
   "language": "python",
   "name": "python3"
  },
  "language_info": {
   "codemirror_mode": {
    "name": "ipython",
    "version": 3
   },
   "file_extension": ".py",
   "mimetype": "text/x-python",
   "name": "python",
   "nbconvert_exporter": "python",
   "pygments_lexer": "ipython3",
   "version": "3.9.7"
  }
 },
 "nbformat": 4,
 "nbformat_minor": 5
}
